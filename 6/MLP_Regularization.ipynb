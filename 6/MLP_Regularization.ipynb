{
  "nbformat": 4,
  "nbformat_minor": 0,
  "metadata": {
    "colab": {
      "provenance": []
    },
    "kernelspec": {
      "name": "python3",
      "display_name": "Python 3"
    },
    "language_info": {
      "name": "python"
    },
    "accelerator": "GPU",
    "gpuClass": "standard"
  },
  "cells": [
    {
      "cell_type": "code",
      "execution_count": 1,
      "metadata": {
        "id": "rvRRSmzgD4D3"
      },
      "outputs": [],
      "source": [
        "import torch\n",
        "import torch.nn as nn\n",
        "import torch.optim as optim\n",
        "import numpy as np\n",
        "import pandas as pd\n",
        "import datetime\n",
        "import matplotlib.pyplot as plt"
      ]
    },
    {
      "cell_type": "code",
      "source": [
        "from torch.utils.data import Dataset, DataLoader\n",
        "from torchvision import transforms\n",
        "from google.colab import drive\n",
        "drive.mount(\"/content/drive\")\n"
      ],
      "metadata": {
        "colab": {
          "base_uri": "https://localhost:8080/"
        },
        "id": "HeVlJhGGD94B",
        "outputId": "471b7d7f-9a43-4bdb-8b22-a266a7b2ba34"
      },
      "execution_count": 2,
      "outputs": [
        {
          "output_type": "stream",
          "name": "stdout",
          "text": [
            "Mounted at /content/drive\n"
          ]
        }
      ]
    },
    {
      "cell_type": "code",
      "source": [
        "time_start = datetime.datetime.now()"
      ],
      "metadata": {
        "id": "Dg1YgutZD99R"
      },
      "execution_count": 3,
      "outputs": []
    },
    {
      "cell_type": "code",
      "source": [
        "torch.manual_seed(180401042)"
      ],
      "metadata": {
        "colab": {
          "base_uri": "https://localhost:8080/"
        },
        "id": "GCXLzua_D-Bi",
        "outputId": "9a552c18-1dab-41aa-b5fd-896124355d71"
      },
      "execution_count": 4,
      "outputs": [
        {
          "output_type": "execute_result",
          "data": {
            "text/plain": [
              "<torch._C.Generator at 0x7fe5202d9110>"
            ]
          },
          "metadata": {},
          "execution_count": 4
        }
      ]
    },
    {
      "cell_type": "code",
      "source": [
        "# CustomDataset sınıfını tanımlayın\n",
        "class CustomDataset(Dataset):\n",
        "    def __init__(self, csv_file, transform=None):\n",
        "        self.df = pd.read_csv(csv_file)\n",
        "        self.transform = transform\n",
        "\n",
        "    def __len__(self):\n",
        "        return len(self.df)\n",
        "\n",
        "    def __getitem__(self, idx):\n",
        "        if torch.is_tensor(idx):\n",
        "            idx = idx.tolist()\n",
        "\n",
        "        X = self.df.iloc[idx, :-1].values\n",
        "        y = self.df.iloc[idx, -1]\n",
        "\n",
        "        if self.transform:\n",
        "            X = self.transform(X)\n",
        "\n",
        "        return X, y"
      ],
      "metadata": {
        "id": "MBfH3fhmD-DT"
      },
      "execution_count": 5,
      "outputs": []
    },
    {
      "cell_type": "code",
      "source": [
        "class ToTensor1D(object):\n",
        "    def __call__(self, sample):\n",
        "        return torch.from_numpy(sample).float()\n",
        "\n",
        "\n",
        "train_dataset = CustomDataset('/content/drive/MyDrive/cure/cure_the_princess_train.csv', transform=ToTensor1D())\n",
        "validation_dataset = CustomDataset('/content/drive/MyDrive/cure/cure_the_princess_validation.csv', transform=ToTensor1D())\n",
        "test_dataset = CustomDataset('/content/drive/MyDrive/cure/cure_the_princess_test.csv', transform=ToTensor1D())"
      ],
      "metadata": {
        "id": "vvB9xkqyD-E0"
      },
      "execution_count": 6,
      "outputs": []
    },
    {
      "cell_type": "code",
      "source": [
        "# DataLoaderları tanımlayın\n",
        "train_loader = DataLoader(train_dataset, batch_size=16, shuffle=True)\n",
        "validation_loader = DataLoader(validation_dataset, batch_size=16, shuffle=False)\n",
        "test_loader = DataLoader(test_dataset, batch_size=16, shuffle=False)"
      ],
      "metadata": {
        "id": "T8SYvl9lEZ92"
      },
      "execution_count": 7,
      "outputs": []
    },
    {
      "cell_type": "code",
      "source": [
        "# Model sınıfını tanımlayın\n",
        "class MLP(nn.Module):\n",
        "    def __init__(self):\n",
        "        super(MLP, self).__init__()\n",
        "        self.fc1 = nn.Linear(13, 100)\n",
        "        self.fc2 = nn.Linear(100, 50)\n",
        "        self.fc3 = nn.Linear(50, 2)\n",
        "        self.relu = nn.ReLU()\n",
        "        self.sigmoid = nn.Sigmoid()\n",
        "\n",
        "    def forward(self, x):\n",
        "      out = self.fc1(x)\n",
        "      out = self.relu(out)\n",
        "      out = self.fc2(out)\n",
        "      out = self.relu(out)\n",
        "      out = self.fc3(out)\n",
        "      out = self.sigmoid(out)\n",
        "      return out\n",
        "\n",
        "\n",
        "device = torch.device('cuda' if torch.cuda.is_available() else 'cpu')\n",
        "model = MLP().to(device)"
      ],
      "metadata": {
        "id": "O3p12e8CEaEV"
      },
      "execution_count": 8,
      "outputs": []
    },
    {
      "cell_type": "code",
      "source": [
        "# Kayıp fonksiyonunu tanımlayın\n",
        "criterion = nn.CrossEntropyLoss()\n",
        "\n",
        "# Optimizeri tanımlayın\n",
        "optimizer = optim.SGD(model.parameters(), lr=0.01)\n",
        "\n",
        "# Epoch sayısını tanımlayın\n",
        "num_epochs = 30\n",
        "\n",
        "train_losses = []\n",
        "val_losses = []\n",
        "train_accs = []\n",
        "val_accs = []\n"
      ],
      "metadata": {
        "id": "Ki5WZCsNEaGl"
      },
      "execution_count": 9,
      "outputs": []
    },
    {
      "cell_type": "code",
      "source": [
        "def train(model, optimizer, criterion, train_loader, val_loader, num_epochs):\n",
        "\n",
        "    best_loss = float('inf')\n",
        "    for epoch in range(num_epochs):\n",
        "        running_loss = 0.0\n",
        "        running_corrects = 0\n",
        "        total_train = 0\n",
        "        \n",
        "        model.train() # modeli eğitim moduna al\n",
        "        \n",
        "        for inputs, labels in train_loader:\n",
        "            inputs, labels = inputs.to(device), labels.to(device)\n",
        "            optimizer.zero_grad() # gradyanları sıfırla\n",
        "            \n",
        "            # forward + backward + optimize\n",
        "            outputs = model(inputs)\n",
        "            loss = criterion(outputs, labels)\n",
        "            \n",
        "            # L2 regülizasyon kaybını hesaplayalım\n",
        "            l2_lambda = 0.001\n",
        "            l2_reg = torch.tensor(0., device=device)\n",
        "            for param in model.parameters():\n",
        "              l2_reg += torch.norm(param)\n",
        "            loss += l2_lambda * l2_reg\n",
        "            # L1 regülizasyon kaybını hesaplayalım\n",
        "            # l1_lambda = 0.001\n",
        "            # l1_reg = torch.tensor(0., requires_grad=False, device=device) # l1_reg tensorünü belirli bir cihaza taşıdık\n",
        "            # for param in model.parameters():\n",
        "            #     l1_reg += torch.norm(param, p=1)\n",
        "            # loss += l1_lambda * l1_reg.float() # l1_reg tensorünü float tipine dönüştürdük\n",
        "            \n",
        "            loss.backward()\n",
        "            optimizer.step()\n",
        "            \n",
        "            running_loss += loss.item()\n",
        "            _, preds = torch.max(outputs, 1)\n",
        "            running_corrects += torch.sum(preds == labels.data)\n",
        "            total_train += labels.size(0)\n",
        "            \n",
        "        train_loss = running_loss / len(train_loader)\n",
        "        train_acc =100. * running_corrects / total_train\n",
        "        train_losses.append(train_loss)\n",
        "        train_accs.append(train_acc)\n",
        "        \n",
        "        # validation loss ve accuracy hesapla\n",
        "        val_loss, val_acc = evaluate(model, criterion, val_loader)\n",
        "        val_losses.append(val_loss)\n",
        "        val_accs.append(val_acc)\n",
        "        \n",
        "        # her epoch sonunda bilgileri ekrana yazdır\n",
        "        print(f\"Epoch {epoch+1}/{num_epochs} - Train Loss: {train_loss:.4f} - Train Acc: {train_acc:.2f} - Val Loss: {val_loss:.4f} - Val Acc: {val_acc:.2f}\")\n",
        "        \n",
        "        # early stopping kontrolü\n",
        "        if val_loss < best_loss:\n",
        "            best_loss = val_loss\n",
        "            best_model = model.state_dict()\n",
        "            epochs_no_improve = 0\n",
        "        else:\n",
        "            epochs_no_improve += 1\n",
        "            if epochs_no_improve == 5:\n",
        "                print(\"Early stopping!\")\n",
        "                break\n"
      ],
      "metadata": {
        "id": "pz7X8lJyEaIm"
      },
      "execution_count": 10,
      "outputs": []
    },
    {
      "cell_type": "code",
      "source": [
        "def evaluate(model, criterion, data_loader):\n",
        "    running_loss = 0.0\n",
        "    running_corrects = 0\n",
        "    total_val = 0\n",
        "\n",
        "    model.eval() # modeli değerlendirme moduna al\n",
        "\n",
        "    with torch.no_grad(): # gradyan hesaplamaları yapma\n",
        "        for inputs, labels in data_loader:\n",
        "            inputs, labels = inputs.to(device), labels.to(device)\n",
        "\n",
        "            outputs = model(inputs.float())\n",
        "            loss = criterion(outputs, labels)\n",
        "            # L2 regülizasyon kaybını hesaplayalım\n",
        "            l2_lambda = 0.001\n",
        "            l2_reg = torch.tensor(0., device=device)\n",
        "            for param in model.parameters():\n",
        "              l2_reg += torch.norm(param)\n",
        "            loss += l2_lambda * l2_reg\n",
        "            # L1 regülizasyon kaybını hesaplayalım\n",
        "            # l1_lambda = 0.001\n",
        "            # l1_reg = torch.tensor(0., requires_grad=False, device=device) # l1_reg tensorünü belirli bir cihaza taşıdık\n",
        "            # for param in model.parameters():\n",
        "            #     l1_reg += torch.norm(param, p=1)\n",
        "            # loss += l1_lambda * l1_reg.float() # l1_reg tensorünü float tipine dönüştürdük\n",
        "            \n",
        "            running_loss += loss.item()\n",
        "            _, preds = torch.max(outputs, 1)\n",
        "            running_corrects += torch.sum(preds == labels.data)\n",
        "            total_val += labels.size(0)\n",
        "\n",
        "    val_loss = running_loss / len(data_loader)\n",
        "    val_acc = 100. *running_corrects / total_val\n",
        "\n",
        "    return val_loss, val_acc"
      ],
      "metadata": {
        "id": "g-MHSMTSEaKl"
      },
      "execution_count": 11,
      "outputs": []
    },
    {
      "cell_type": "code",
      "source": [
        "train(model, optimizer, criterion, train_loader, validation_loader, num_epochs)\n"
      ],
      "metadata": {
        "colab": {
          "base_uri": "https://localhost:8080/"
        },
        "id": "7zHwOmOcEaMl",
        "outputId": "0eafdbe8-d879-48e4-d979-daf92e7c217e"
      },
      "execution_count": 12,
      "outputs": [
        {
          "output_type": "stream",
          "name": "stdout",
          "text": [
            "Epoch 1/30 - Train Loss: 0.6424 - Train Acc: 67.81 - Val Loss: 0.5814 - Val Acc: 78.03\n",
            "Epoch 2/30 - Train Loss: 0.5592 - Train Acc: 80.11 - Val Loss: 0.5196 - Val Acc: 83.44\n",
            "Epoch 3/30 - Train Loss: 0.5199 - Train Acc: 82.91 - Val Loss: 0.4851 - Val Acc: 86.94\n",
            "Epoch 4/30 - Train Loss: 0.5026 - Train Acc: 84.74 - Val Loss: 0.4673 - Val Acc: 88.54\n",
            "Epoch 5/30 - Train Loss: 0.4808 - Train Acc: 85.46 - Val Loss: 0.4449 - Val Acc: 91.40\n",
            "Epoch 6/30 - Train Loss: 0.4705 - Train Acc: 87.70 - Val Loss: 0.5143 - Val Acc: 78.34\n",
            "Epoch 7/30 - Train Loss: 0.4640 - Train Acc: 87.46 - Val Loss: 0.4500 - Val Acc: 89.81\n",
            "Epoch 8/30 - Train Loss: 0.4529 - Train Acc: 88.34 - Val Loss: 0.4249 - Val Acc: 92.36\n",
            "Epoch 9/30 - Train Loss: 0.4514 - Train Acc: 88.50 - Val Loss: 0.4293 - Val Acc: 91.72\n",
            "Epoch 10/30 - Train Loss: 0.4462 - Train Acc: 88.74 - Val Loss: 0.4176 - Val Acc: 93.63\n",
            "Epoch 11/30 - Train Loss: 0.4399 - Train Acc: 89.54 - Val Loss: 0.4158 - Val Acc: 92.68\n",
            "Epoch 12/30 - Train Loss: 0.4347 - Train Acc: 90.26 - Val Loss: 0.4205 - Val Acc: 91.72\n",
            "Epoch 13/30 - Train Loss: 0.4356 - Train Acc: 89.70 - Val Loss: 0.4106 - Val Acc: 92.68\n",
            "Epoch 14/30 - Train Loss: 0.4304 - Train Acc: 90.97 - Val Loss: 0.4080 - Val Acc: 92.68\n",
            "Epoch 15/30 - Train Loss: 0.4301 - Train Acc: 90.50 - Val Loss: 0.4075 - Val Acc: 93.95\n",
            "Epoch 16/30 - Train Loss: 0.4255 - Train Acc: 90.58 - Val Loss: 0.4206 - Val Acc: 91.08\n",
            "Epoch 17/30 - Train Loss: 0.4228 - Train Acc: 91.61 - Val Loss: 0.4063 - Val Acc: 92.68\n",
            "Epoch 18/30 - Train Loss: 0.4195 - Train Acc: 91.29 - Val Loss: 0.4050 - Val Acc: 93.31\n",
            "Epoch 19/30 - Train Loss: 0.4190 - Train Acc: 91.29 - Val Loss: 0.4053 - Val Acc: 92.68\n",
            "Epoch 20/30 - Train Loss: 0.4160 - Train Acc: 92.25 - Val Loss: 0.4030 - Val Acc: 93.31\n",
            "Epoch 21/30 - Train Loss: 0.4155 - Train Acc: 92.17 - Val Loss: 0.4021 - Val Acc: 93.31\n",
            "Epoch 22/30 - Train Loss: 0.4100 - Train Acc: 92.25 - Val Loss: 0.4206 - Val Acc: 91.08\n",
            "Epoch 23/30 - Train Loss: 0.4106 - Train Acc: 92.33 - Val Loss: 0.4051 - Val Acc: 92.36\n",
            "Epoch 24/30 - Train Loss: 0.4070 - Train Acc: 92.97 - Val Loss: 0.3992 - Val Acc: 93.31\n",
            "Epoch 25/30 - Train Loss: 0.4061 - Train Acc: 93.05 - Val Loss: 0.4545 - Val Acc: 86.94\n",
            "Epoch 26/30 - Train Loss: 0.4072 - Train Acc: 92.33 - Val Loss: 0.3948 - Val Acc: 93.95\n",
            "Epoch 27/30 - Train Loss: 0.4038 - Train Acc: 93.29 - Val Loss: 0.4068 - Val Acc: 92.68\n",
            "Epoch 28/30 - Train Loss: 0.4030 - Train Acc: 93.21 - Val Loss: 0.3958 - Val Acc: 94.59\n",
            "Epoch 29/30 - Train Loss: 0.3997 - Train Acc: 93.69 - Val Loss: 0.3956 - Val Acc: 93.63\n",
            "Epoch 30/30 - Train Loss: 0.3985 - Train Acc: 94.17 - Val Loss: 0.4146 - Val Acc: 92.68\n"
          ]
        }
      ]
    },
    {
      "cell_type": "code",
      "source": [
        "plt.plot(train_losses, label=\"Train Loss\")\n",
        "plt.plot(val_losses, label=\"Validation Loss\")\n",
        "plt.xlabel(\"Epoch\")\n",
        "plt.ylabel(\"Loss\")\n",
        "plt.title(\"Train and Validation Loss over Epochs\")\n",
        "plt.legend()\n",
        "plt.show()"
      ],
      "metadata": {
        "colab": {
          "base_uri": "https://localhost:8080/",
          "height": 472
        },
        "id": "lQDqnYupE9iS",
        "outputId": "f2b5eb4a-1ce1-4d7c-a064-4338b0f5c468"
      },
      "execution_count": 13,
      "outputs": [
        {
          "output_type": "display_data",
          "data": {
            "text/plain": [
              "<Figure size 640x480 with 1 Axes>"
            ],
            "image/png": "[encoded data removed]"
          },
          "metadata": {}
        }
      ]
    },
    {
      "cell_type": "code",
      "source": [
        "\n",
        "from sklearn.metrics import accuracy_score, precision_score, f1_score, recall_score\n",
        "\n",
        "def evaluate_metrics(model, criterion, data_loader):\n",
        "    model.eval()\n",
        "    y_true = []\n",
        "    y_pred = []\n",
        "    losses = []\n",
        "    \n",
        "    with torch.no_grad():\n",
        "\n",
        "        for inputs, labels in data_loader:\n",
        "            inputs, labels = inputs.to(device), labels.to(device)\n",
        "            outputs = model(inputs)\n",
        "            loss = criterion(outputs, labels)\n",
        "            losses.append(loss.item())\n",
        "            _, preds = torch.max(outputs, 1)\n",
        "            y_true.extend(labels.cpu().numpy())\n",
        "            y_pred.extend(preds.cpu().numpy())\n",
        "            \n",
        "    acc = accuracy_score(y_true, y_pred)\n",
        "    prec = precision_score(y_true, y_pred, average='weighted')\n",
        "    f1 = f1_score(y_true, y_pred, average='weighted')\n",
        "    recall = recall_score(y_true, y_pred, average='weighted')\n",
        "    \n",
        "    print(f\"Test Accuracy: {acc:.4f},Prec Accuracy: {prec:.4f},F1 score: {f1:.4f},Recall score: {recall:.4f}\")\n",
        "\n",
        "\n",
        "evaluate_metrics(model, criterion, validation_loader)\n",
        "\n",
        "time_finish = datetime.datetime.now()\n"
      ],
      "metadata": {
        "colab": {
          "base_uri": "https://localhost:8080/"
        },
        "id": "hnSMKko0E9kx",
        "outputId": "2f2ec8f3-41f9-4239-d914-f15765bcbf0c"
      },
      "execution_count": 14,
      "outputs": [
        {
          "output_type": "stream",
          "name": "stdout",
          "text": [
            "Test Accuracy: 0.9268,Prec Accuracy: 0.9319,F1 score: 0.9266,Recall score: 0.9268\n"
          ]
        }
      ]
    },
    {
      "cell_type": "code",
      "source": [
        "print(\"toplam calisma süresi: \", time_finish - time_start,\"\\nortam: \", device)"
      ],
      "metadata": {
        "colab": {
          "base_uri": "https://localhost:8080/"
        },
        "id": "pnePtazsE9nG",
        "outputId": "00db6665-1c0d-48ca-8fd0-61ffdc78d71c"
      },
      "execution_count": 15,
      "outputs": [
        {
          "output_type": "stream",
          "name": "stdout",
          "text": [
            "toplam calisma süresi:  0:00:25.768541 \n",
            "ortam:  cuda\n"
          ]
        }
      ]
    }
  ]
}