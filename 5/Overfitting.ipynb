{
  "nbformat": 4,
  "nbformat_minor": 0,
  "metadata": {
    "colab": {
      "provenance": []
    },
    "kernelspec": {
      "name": "python3",
      "display_name": "Python 3"
    },
    "language_info": {
      "name": "python"
    },
    "accelerator": "GPU",
    "gpuClass": "standard"
  },
  "cells": [
    {
      "cell_type": "code",
      "execution_count": 45,
      "metadata": {
        "id": "rvRRSmzgD4D3"
      },
      "outputs": [],
      "source": [
        "import torch\n",
        "import torch.nn as nn\n",
        "import torch.optim as optim\n",
        "import numpy as np\n",
        "import pandas as pd\n",
        "import datetime\n",
        "import matplotlib.pyplot as plt"
      ]
    },
    {
      "cell_type": "code",
      "source": [
        "from torch.utils.data import Dataset, DataLoader\n",
        "from torchvision import transforms\n",
        "from google.colab import drive\n",
        "drive.mount(\"/content/drive\")\n"
      ],
      "metadata": {
        "colab": {
          "base_uri": "https://localhost:8080/"
        },
        "id": "HeVlJhGGD94B",
        "outputId": "932d1ce8-8d43-4148-c961-45a5e73f9664"
      },
      "execution_count": 46,
      "outputs": [
        {
          "output_type": "stream",
          "name": "stdout",
          "text": [
            "Drive already mounted at /content/drive; to attempt to forcibly remount, call drive.mount(\"/content/drive\", force_remount=True).\n"
          ]
        }
      ]
    },
    {
      "cell_type": "code",
      "source": [
        "torch.manual_seed(180401042)"
      ],
      "metadata": {
        "colab": {
          "base_uri": "https://localhost:8080/"
        },
        "id": "GCXLzua_D-Bi",
        "outputId": "f75bc334-8b26-4036-8d9e-005d176c72fa"
      },
      "execution_count": 47,
      "outputs": [
        {
          "output_type": "execute_result",
          "data": {
            "text/plain": [
              "<torch._C.Generator at 0x7f59521c25d0>"
            ]
          },
          "metadata": {},
          "execution_count": 47
        }
      ]
    },
    {
      "cell_type": "code",
      "source": [
        "# CustomDataset sınıfını tanımlayın\n",
        "class CustomDataset(Dataset):\n",
        "    def __init__(self, csv_file, transform=None):\n",
        "        self.df = pd.read_csv(csv_file)\n",
        "        self.transform = transform\n",
        "\n",
        "    def __len__(self):\n",
        "        return len(self.df)\n",
        "\n",
        "    def __getitem__(self, idx):\n",
        "        if torch.is_tensor(idx):\n",
        "            idx = idx.tolist()\n",
        "\n",
        "        X = self.df.iloc[idx, :-1].values\n",
        "        y = self.df.iloc[idx, -1]\n",
        "\n",
        "        if self.transform:\n",
        "            X = self.transform(X)\n",
        "\n",
        "        return X, y"
      ],
      "metadata": {
        "id": "MBfH3fhmD-DT"
      },
      "execution_count": 48,
      "outputs": []
    },
    {
      "cell_type": "code",
      "source": [
        "class ToTensor1D(object):\n",
        "    def __call__(self, sample):\n",
        "        return torch.from_numpy(sample).float()\n",
        "\n",
        "\n",
        "train_dataset = CustomDataset('/content/drive/MyDrive/cure/cure_the_princess_train.csv', transform=ToTensor1D())\n",
        "validation_dataset = CustomDataset('/content/drive/MyDrive/cure/cure_the_princess_validation.csv', transform=ToTensor1D())\n",
        "test_dataset = CustomDataset('/content/drive/MyDrive/cure/cure_the_princess_test.csv', transform=ToTensor1D())"
      ],
      "metadata": {
        "id": "vvB9xkqyD-E0"
      },
      "execution_count": 49,
      "outputs": []
    },
    {
      "cell_type": "code",
      "source": [
        "# DataLoaderları tanımlayın\n",
        "train_loader = DataLoader(train_dataset, batch_size=16, shuffle=True)\n",
        "validation_loader = DataLoader(validation_dataset, batch_size=16, shuffle=False)\n",
        "test_loader = DataLoader(test_dataset, batch_size=16, shuffle=False)"
      ],
      "metadata": {
        "id": "T8SYvl9lEZ92"
      },
      "execution_count": 50,
      "outputs": []
    },
    {
      "cell_type": "code",
      "source": [
        "# Model sınıfını tanımlayın\n",
        "class MLP(nn.Module):\n",
        "    def __init__(self):\n",
        "        super(MLP, self).__init__()\n",
        "        self.fc1 = nn.Linear(13, 100)\n",
        "        self.fc2 = nn.Linear(100, 50)\n",
        "        self.fc3 = nn.Linear(50, 2)\n",
        "        self.relu = nn.ReLU()\n",
        "        self.sigmoid = nn.Sigmoid()\n",
        "\n",
        "    def forward(self, x):\n",
        "      out = self.fc1(x)\n",
        "      out = self.relu(out)\n",
        "      out = self.fc2(out)\n",
        "      out = self.relu(out)\n",
        "      out = self.fc3(out)\n",
        "      out = self.sigmoid(out)\n",
        "      return out\n",
        "\n",
        "\n",
        "device = torch.device('cuda' if torch.cuda.is_available() else 'cpu')\n",
        "model = MLP().to(device)"
      ],
      "metadata": {
        "id": "O3p12e8CEaEV"
      },
      "execution_count": 51,
      "outputs": []
    },
    {
      "cell_type": "code",
      "source": [
        "# Kayıp fonksiyonunu tanımlayın\n",
        "criterion = nn.CrossEntropyLoss()\n",
        "\n",
        "\n",
        "# Epoch sayısını tanımlayın\n",
        "num_epochs = 30\n",
        "train_losses = []\n",
        "val_losses = []\n",
        "train_accs = []\n",
        "val_accs = []\n"
      ],
      "metadata": {
        "id": "Ki5WZCsNEaGl"
      },
      "execution_count": 52,
      "outputs": []
    },
    {
      "cell_type": "code",
      "source": [
        "def train(model, criterion, train_loader, val_loader, num_epochs):\n",
        "    learning_rate = 0.01\n",
        "\n",
        "    best_loss = float('inf')\n",
        "    for epoch in range(num_epochs):\n",
        "        running_loss = 0.0\n",
        "        running_corrects = 0\n",
        "        total_train = 0\n",
        "        \n",
        "        model.train() # modeli eğitim moduna al\n",
        "        \n",
        "        for inputs, labels in train_loader:\n",
        "            inputs, labels = inputs.to(device), labels.to(device)\n",
        "            optim.SGD(model.parameters(), lr=learning_rate).zero_grad() # gradyanları sıfırla\n",
        "            \n",
        "            # forward + backward + optimize\n",
        "            outputs = model(inputs)\n",
        "            loss = criterion(outputs, labels)\n",
        "            \n",
        "            \n",
        "            loss.backward()\n",
        "            optim.SGD(model.parameters(), lr=learning_rate).step()\n",
        "            \n",
        "            running_loss += loss.item()\n",
        "            _, preds = torch.max(outputs, 1)\n",
        "            running_corrects += torch.sum(preds == labels.data)\n",
        "            total_train += labels.size(0)\n",
        "            \n",
        "        train_loss = running_loss / len(train_loader)\n",
        "        train_acc =100. * running_corrects / total_train\n",
        "        train_losses.append(train_loss)\n",
        "        train_accs.append(train_acc)\n",
        "        \n",
        "        # validation loss ve accuracy hesapla\n",
        "        val_loss, val_acc = evaluate(model, criterion, val_loader)\n",
        "        val_losses.append(val_loss)\n",
        "        val_accs.append(val_acc)\n",
        "        \n",
        "\n",
        "        # her epoch sonunda bilgileri ekrana yazdır\n",
        "        print(f\"Epoch {epoch+1}/{num_epochs} - Train Loss: {train_loss:.4f} - Train Acc: {train_acc:.2f} - Val Loss: {val_loss:.4f} - Val Acc: {val_acc:.2f}\")\n",
        "        \n",
        "        if val_loss < 0.40:\n",
        "          learning_rate +=0.2\n",
        "    "
      ],
      "metadata": {
        "id": "pz7X8lJyEaIm"
      },
      "execution_count": 53,
      "outputs": []
    },
    {
      "cell_type": "code",
      "source": [
        "def evaluate(model, criterion, data_loader):\n",
        "    running_loss = 0.0\n",
        "    running_corrects = 0\n",
        "    total_val = 0\n",
        "\n",
        "    model.eval() # modeli değerlendirme moduna al\n",
        "\n",
        "    with torch.no_grad(): # gradyan hesaplamaları yapma\n",
        "        for inputs, labels in data_loader:\n",
        "            inputs, labels = inputs.to(device), labels.to(device)\n",
        "\n",
        "            outputs = model(inputs.float())\n",
        "            loss = criterion(outputs, labels)\n",
        "            \n",
        "            \n",
        "            running_loss += loss.item()\n",
        "            _, preds = torch.max(outputs, 1)\n",
        "            running_corrects += torch.sum(preds == labels.data)\n",
        "            total_val += labels.size(0)\n",
        "\n",
        "    val_loss = running_loss / len(data_loader)\n",
        "    val_acc = 100. *running_corrects / total_val\n",
        "\n",
        "    return val_loss, val_acc"
      ],
      "metadata": {
        "id": "g-MHSMTSEaKl"
      },
      "execution_count": 54,
      "outputs": []
    },
    {
      "cell_type": "code",
      "source": [
        "train(model, criterion, train_loader, validation_loader, num_epochs)\n"
      ],
      "metadata": {
        "colab": {
          "base_uri": "https://localhost:8080/"
        },
        "id": "7zHwOmOcEaMl",
        "outputId": "293bbd87-846d-495a-e3e4-daabfd9d02af"
      },
      "execution_count": 55,
      "outputs": [
        {
          "output_type": "stream",
          "name": "stdout",
          "text": [
            "Epoch 1/30 - Train Loss: 0.6294 - Train Acc: 67.97 - Val Loss: 0.5684 - Val Acc: 78.03\n",
            "Epoch 2/30 - Train Loss: 0.5461 - Train Acc: 80.03 - Val Loss: 0.5064 - Val Acc: 83.44\n",
            "Epoch 3/30 - Train Loss: 0.5067 - Train Acc: 82.83 - Val Loss: 0.4720 - Val Acc: 86.94\n",
            "Epoch 4/30 - Train Loss: 0.4893 - Train Acc: 84.66 - Val Loss: 0.4542 - Val Acc: 88.54\n",
            "Epoch 5/30 - Train Loss: 0.4675 - Train Acc: 85.62 - Val Loss: 0.4319 - Val Acc: 92.04\n",
            "Epoch 6/30 - Train Loss: 0.4571 - Train Acc: 87.62 - Val Loss: 0.4999 - Val Acc: 78.34\n",
            "Epoch 7/30 - Train Loss: 0.4506 - Train Acc: 87.38 - Val Loss: 0.4370 - Val Acc: 89.49\n",
            "Epoch 8/30 - Train Loss: 0.4393 - Train Acc: 88.42 - Val Loss: 0.4110 - Val Acc: 92.36\n",
            "Epoch 9/30 - Train Loss: 0.4379 - Train Acc: 88.58 - Val Loss: 0.4156 - Val Acc: 92.04\n",
            "Epoch 10/30 - Train Loss: 0.4326 - Train Acc: 88.58 - Val Loss: 0.4038 - Val Acc: 93.63\n",
            "Epoch 11/30 - Train Loss: 0.4261 - Train Acc: 89.62 - Val Loss: 0.4025 - Val Acc: 92.68\n",
            "Epoch 12/30 - Train Loss: 0.4210 - Train Acc: 90.34 - Val Loss: 0.4073 - Val Acc: 91.40\n",
            "Epoch 13/30 - Train Loss: 0.4219 - Train Acc: 89.78 - Val Loss: 0.3970 - Val Acc: 92.68\n",
            "Epoch 14/30 - Train Loss: 0.5899 - Train Acc: 71.57 - Val Loss: 0.4807 - Val Acc: 83.44\n",
            "Epoch 15/30 - Train Loss: 0.4598 - Train Acc: 84.74 - Val Loss: 0.4055 - Val Acc: 91.40\n",
            "Epoch 16/30 - Train Loss: 0.4260 - Train Acc: 88.42 - Val Loss: 0.4816 - Val Acc: 81.53\n",
            "Epoch 17/30 - Train Loss: 0.4267 - Train Acc: 88.02 - Val Loss: 0.4569 - Val Acc: 85.03\n",
            "Epoch 18/30 - Train Loss: 0.3993 - Train Acc: 91.21 - Val Loss: 0.3893 - Val Acc: 92.68\n",
            "Epoch 19/30 - Train Loss: 0.4574 - Train Acc: 85.22 - Val Loss: 0.4883 - Val Acc: 81.21\n",
            "Epoch 20/30 - Train Loss: 0.4329 - Train Acc: 87.78 - Val Loss: 0.4769 - Val Acc: 81.53\n",
            "Epoch 21/30 - Train Loss: 0.4097 - Train Acc: 90.02 - Val Loss: 0.3720 - Val Acc: 94.27\n",
            "Epoch 22/30 - Train Loss: 0.4390 - Train Acc: 87.30 - Val Loss: 0.6365 - Val Acc: 67.20\n",
            "Epoch 23/30 - Train Loss: 0.5291 - Train Acc: 78.19 - Val Loss: 0.4020 - Val Acc: 90.45\n",
            "Epoch 24/30 - Train Loss: 0.5341 - Train Acc: 77.72 - Val Loss: 0.6265 - Val Acc: 68.15\n",
            "Epoch 25/30 - Train Loss: 0.4990 - Train Acc: 80.83 - Val Loss: 0.3899 - Val Acc: 92.36\n",
            "Epoch 26/30 - Train Loss: 0.5077 - Train Acc: 80.27 - Val Loss: 0.4708 - Val Acc: 83.76\n",
            "Epoch 27/30 - Train Loss: 0.5672 - Train Acc: 74.52 - Val Loss: 0.4765 - Val Acc: 82.48\n",
            "Epoch 28/30 - Train Loss: 0.5387 - Train Acc: 77.48 - Val Loss: 0.4832 - Val Acc: 82.80\n",
            "Epoch 29/30 - Train Loss: 0.6160 - Train Acc: 67.89 - Val Loss: 0.5980 - Val Acc: 61.78\n",
            "Epoch 30/30 - Train Loss: 0.8152 - Train Acc: 49.92 - Val Loss: 0.8145 - Val Acc: 49.68\n"
          ]
        }
      ]
    },
    {
      "cell_type": "code",
      "source": [
        "plt.plot(train_losses, label=\"Train Loss\")\n",
        "plt.plot(val_losses, label=\"Validation Loss\")\n",
        "plt.xlabel(\"Epoch\")\n",
        "plt.ylabel(\"Loss\")\n",
        "plt.title(\"Train and Validation Loss over Epochs\")\n",
        "plt.legend()\n",
        "plt.show()"
      ],
      "metadata": {
        "colab": {
          "base_uri": "https://localhost:8080/",
          "height": 472
        },
        "id": "lQDqnYupE9iS",
        "outputId": "4f219767-532d-48dd-c922-e5a39dddef44"
      },
      "execution_count": 56,
      "outputs": [
        {
          "output_type": "display_data",
          "data": {
            "text/plain": [
              "<Figure size 640x480 with 1 Axes>"
            ],
            "image/png": "[encoded data removed]"
          },
          "metadata": {}
        }
      ]
    }
  ]
}