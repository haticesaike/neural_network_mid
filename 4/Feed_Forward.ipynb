{
  "nbformat": 4,
  "nbformat_minor": 0,
  "metadata": {
    "colab": {
      "provenance": [],
      "authorship_tag": "ABX9TyO0kW1JYv9j3XiO8e6mrd51",
      "include_colab_link": true
    },
    "kernelspec": {
      "name": "python3",
      "display_name": "Python 3"
    },
    "language_info": {
      "name": "python"
    }
  },
  "cells": [
    {
      "cell_type": "markdown",
      "metadata": {
        "id": "view-in-github",
        "colab_type": "text"
      },
      "source": [
        "<a href=\"https://colab.research.google.com/github/haticesaike/neural_network_mid/blob/main/neural_networks_feed_forward.ipynb\" target=\"_parent\"><img src=\"https://colab.research.google.com/assets/colab-badge.svg\" alt=\"Open In Colab\"/></a>"
      ]
    },
    {
      "cell_type": "code",
      "execution_count": null,
      "metadata": {
        "colab": {
          "base_uri": "https://localhost:8080/"
        },
        "id": "deYIxnkhKNrv",
        "outputId": "7e235734-e44d-4f57-cc2d-155a7a4ea00b"
      },
      "outputs": [
        {
          "output_type": "stream",
          "name": "stdout",
          "text": [
            "tensor([[0.4892],\n",
            "        [0.5566]])\n"
          ]
        }
      ],
      "source": [
        "import torch\n",
        "torch.manual_seed(1)\n",
        "import torch.nn as nn\n",
        "\n",
        "class Simplenet(nn.Module):\n",
        "    def __init__(self, input_size=3, hidden_size=50):\n",
        "        super(Simplenet, self).__init__()\n",
        "        self.hidden_layer = nn.Sequential(\n",
        "            nn.Linear(input_size, hidden_size),\n",
        "            \n",
        "        )\n",
        "        self.output_layer = nn.Sequential(\n",
        "            nn.Linear(hidden_size, 1),\n",
        "            \n",
        "        )\n",
        "    def my_tanh(self,x):\n",
        "      return (torch.exp(x)-torch.exp(-x))/(torch.exp(x)+torch.exp(-x))\n",
        "\n",
        "    def my_sigmoid(self,x):\n",
        "      return 1/ (1+ torch.exp(-x))    \n",
        "    def forward(self, x):\n",
        "        x = self.hidden_layer(x)\n",
        "        x = self.my_tanh(x)\n",
        "        x = self.output_layer(x)\n",
        "        x = self.my_sigmoid(x)\n",
        "        return x\n",
        "\n",
        "X = torch.tensor([[1, 2, 3], [4, 5, 6]], dtype=torch.float32)\n",
        "model = Simplenet()\n",
        "output=model(X)\n",
        "print(output.data)"
      ]
    },
    {
      "cell_type": "code",
      "source": [
        "import torch\n",
        "torch.manual_seed(180401042)\n",
        "import torch.nn as nn\n",
        "\n",
        "class Simplenet(nn.Module):\n",
        "    def __init__(self, input_size=3, hidden_size=50):\n",
        "        super(Simplenet, self).__init__()\n",
        "        self.hidden_layer = nn.Sequential(\n",
        "            nn.Linear(input_size, hidden_size),\n",
        "            \n",
        "        )\n",
        "        self.output_layer = nn.Sequential(\n",
        "            nn.Linear(hidden_size, 1),\n",
        "            \n",
        "        )\n",
        "    def my_tanh(self,x):\n",
        "      return (torch.exp(x)-torch.exp(-x))/(torch.exp(x)+torch.exp(-x))\n",
        "\n",
        "    def my_sigmoid(self,x):\n",
        "      return 1/ (1+ torch.exp(-x))    \n",
        "    def forward(self, x):\n",
        "        x = self.hidden_layer(x)\n",
        "        x = self.my_tanh(x)\n",
        "        x = self.output_layer(x)\n",
        "        x = self.my_sigmoid(x)\n",
        "        return x\n",
        "\n",
        "X = torch.tensor([[1, 2, 3], [4, 5, 6]], dtype=torch.float32)\n",
        "model = Simplenet()\n",
        "output=model(X)\n",
        "print(output.data)"
      ],
      "metadata": {
        "colab": {
          "base_uri": "https://localhost:8080/"
        },
        "id": "2Ubr8aE1LHAu",
        "outputId": "cda07030-e6f4-4101-c38e-90bf6c66c768"
      },
      "execution_count": null,
      "outputs": [
        {
          "output_type": "stream",
          "name": "stdout",
          "text": [
            "tensor([[0.4695],\n",
            "        [0.4501]])\n"
          ]
        }
      ]
    }
  ]
}